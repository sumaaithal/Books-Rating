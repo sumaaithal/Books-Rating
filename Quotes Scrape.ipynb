{
 "cells": [
  {
   "cell_type": "code",
   "execution_count": 2,
   "id": "eb5379ed-b906-45c2-bc64-0364ab645b68",
   "metadata": {},
   "outputs": [],
   "source": [
    "import pandas as pd\n",
    "import requests\n",
    "import bs4"
   ]
  },
  {
   "cell_type": "code",
   "execution_count": 4,
   "id": "edcd5dd7-07b4-4e76-8476-70b2a0779583",
   "metadata": {},
   "outputs": [],
   "source": [
    "base_url = \"http://quotes.toscrape.com/page/{}/\""
   ]
  },
  {
   "cell_type": "code",
   "execution_count": 222,
   "id": "1ba2adfb-7173-40d2-b1da-f62c2147d45c",
   "metadata": {},
   "outputs": [],
   "source": [
    "quotes_list = []\n",
    "authors_list = []\n",
    "all_tags = []\n",
    "\n",
    "page = 1\n",
    "\n",
    "while True:\n",
    "    res = requests.get(base_url.format(page))\n",
    "    soup = bs4.BeautifulSoup(res.text, \"lxml\")\n",
    "\n",
    "    #check if quotes exists in a page\n",
    "    quotes = soup.select(\".quote\")\n",
    "\n",
    "    if not quotes:\n",
    "        break\n",
    "\n",
    "    for quote in quotes:\n",
    "\n",
    "        #quotes\n",
    "        q = quote.select(\".text\")[0].getText()\n",
    "        quotes_list.append(q)\n",
    "\n",
    "        #authors\n",
    "        a = quote.select(\".author\")[0].getText()\n",
    "        authors_list.append(a)\n",
    "\n",
    "        #tags\n",
    "        tags_list = []\n",
    "        tags = quote.select(\".tag\")\n",
    "        for t in tags:\n",
    "           tags_list.append(t.getText())\n",
    "\n",
    "        all_tags.append(tags_list)\n",
    "\n",
    "\n",
    "    page += 1"
   ]
  },
  {
   "cell_type": "code",
   "execution_count": 224,
   "id": "72fd8588-2907-4a48-918e-ceacfe01709c",
   "metadata": {},
   "outputs": [
    {
     "data": {
      "text/html": [
       "<div>\n",
       "<style scoped>\n",
       "    .dataframe tbody tr th:only-of-type {\n",
       "        vertical-align: middle;\n",
       "    }\n",
       "\n",
       "    .dataframe tbody tr th {\n",
       "        vertical-align: top;\n",
       "    }\n",
       "\n",
       "    .dataframe thead th {\n",
       "        text-align: right;\n",
       "    }\n",
       "</style>\n",
       "<table border=\"1\" class=\"dataframe\">\n",
       "  <thead>\n",
       "    <tr style=\"text-align: right;\">\n",
       "      <th></th>\n",
       "      <th>quotes</th>\n",
       "      <th>authors</th>\n",
       "      <th>tags</th>\n",
       "    </tr>\n",
       "  </thead>\n",
       "  <tbody>\n",
       "    <tr>\n",
       "      <th>0</th>\n",
       "      <td>“The world as we have created it is a process ...</td>\n",
       "      <td>Albert Einstein</td>\n",
       "      <td>[change, deep-thoughts, thinking, world]</td>\n",
       "    </tr>\n",
       "    <tr>\n",
       "      <th>1</th>\n",
       "      <td>“It is our choices, Harry, that show what we t...</td>\n",
       "      <td>J.K. Rowling</td>\n",
       "      <td>[abilities, choices]</td>\n",
       "    </tr>\n",
       "    <tr>\n",
       "      <th>2</th>\n",
       "      <td>“There are only two ways to live your life. On...</td>\n",
       "      <td>Albert Einstein</td>\n",
       "      <td>[inspirational, life, live, miracle, miracles]</td>\n",
       "    </tr>\n",
       "    <tr>\n",
       "      <th>3</th>\n",
       "      <td>“The person, be it gentleman or lady, who has ...</td>\n",
       "      <td>Jane Austen</td>\n",
       "      <td>[aliteracy, books, classic, humor]</td>\n",
       "    </tr>\n",
       "    <tr>\n",
       "      <th>4</th>\n",
       "      <td>“Imperfection is beauty, madness is genius and...</td>\n",
       "      <td>Marilyn Monroe</td>\n",
       "      <td>[be-yourself, inspirational]</td>\n",
       "    </tr>\n",
       "  </tbody>\n",
       "</table>\n",
       "</div>"
      ],
      "text/plain": [
       "                                              quotes          authors  \\\n",
       "0  “The world as we have created it is a process ...  Albert Einstein   \n",
       "1  “It is our choices, Harry, that show what we t...     J.K. Rowling   \n",
       "2  “There are only two ways to live your life. On...  Albert Einstein   \n",
       "3  “The person, be it gentleman or lady, who has ...      Jane Austen   \n",
       "4  “Imperfection is beauty, madness is genius and...   Marilyn Monroe   \n",
       "\n",
       "                                             tags  \n",
       "0        [change, deep-thoughts, thinking, world]  \n",
       "1                            [abilities, choices]  \n",
       "2  [inspirational, life, live, miracle, miracles]  \n",
       "3              [aliteracy, books, classic, humor]  \n",
       "4                    [be-yourself, inspirational]  "
      ]
     },
     "execution_count": 224,
     "metadata": {},
     "output_type": "execute_result"
    }
   ],
   "source": [
    "df = pd.DataFrame({'quotes':quotes_list, 'authors': authors_list, 'tags': all_tags})\n",
    "df.head()"
   ]
  },
  {
   "cell_type": "code",
   "execution_count": null,
   "id": "c1186d4a-b8bd-4ce6-981b-e795e5de3f9a",
   "metadata": {},
   "outputs": [],
   "source": [
    "#top 10 keywords"
   ]
  },
  {
   "cell_type": "code",
   "execution_count": 230,
   "id": "04a9451f-e988-4474-b238-b43ca751eb7a",
   "metadata": {},
   "outputs": [],
   "source": [
    "res = requests.get(base_url.format(page))\n",
    "soup = bs4.BeautifulSoup(res.text, \"lxml\")"
   ]
  },
  {
   "cell_type": "code",
   "execution_count": 252,
   "id": "e79c2901-4324-4113-b21f-11810c50188e",
   "metadata": {},
   "outputs": [
    {
     "name": "stdout",
     "output_type": "stream",
     "text": [
      "love\n",
      "\n",
      "\n",
      "\n",
      "inspirational\n",
      "\n",
      "\n",
      "\n",
      "life\n",
      "\n",
      "\n",
      "\n",
      "humor\n",
      "\n",
      "\n",
      "\n",
      "books\n",
      "\n",
      "\n",
      "\n",
      "reading\n",
      "\n",
      "\n",
      "\n",
      "friendship\n",
      "\n",
      "\n",
      "\n",
      "friends\n",
      "\n",
      "\n",
      "\n",
      "truth\n",
      "\n",
      "\n",
      "\n",
      "simile\n",
      "\n",
      "\n",
      "\n"
     ]
    }
   ],
   "source": [
    "top_tags = soup.select(\".tag-item\")\n",
    "\n",
    "for tag in top_tags:\n",
    "    \n",
    "    t = tag.select(\".tag\")[0].getText()\n",
    "    print(t)\n",
    "    print(\"\\n\\n\")"
   ]
  }
 ],
 "metadata": {
  "kernelspec": {
   "display_name": "Python 3 (ipykernel)",
   "language": "python",
   "name": "python3"
  },
  "language_info": {
   "codemirror_mode": {
    "name": "ipython",
    "version": 3
   },
   "file_extension": ".py",
   "mimetype": "text/x-python",
   "name": "python",
   "nbconvert_exporter": "python",
   "pygments_lexer": "ipython3",
   "version": "3.12.4"
  }
 },
 "nbformat": 4,
 "nbformat_minor": 5
}
