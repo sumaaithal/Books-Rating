{
 "cells": [
  {
   "cell_type": "code",
   "execution_count": 162,
   "id": "afe42c11-51ca-4bf1-9daa-4d2d120c1770",
   "metadata": {},
   "outputs": [],
   "source": [
    "import requests\n",
    "import bs4\n",
    "import pandas as pd"
   ]
  },
  {
   "cell_type": "code",
   "execution_count": 36,
   "id": "8b1c24b3-2d70-4a3b-afa0-4917a7cd738b",
   "metadata": {},
   "outputs": [],
   "source": [
    "base_url = \"http://books.toscrape.com/catalogue/page-{}.html\""
   ]
  },
  {
   "cell_type": "markdown",
   "id": "a8d68319-1ead-4d09-92e2-a238657a71dd",
   "metadata": {},
   "source": [
    "### Select only books with 2 star ratings"
   ]
  },
  {
   "cell_type": "code",
   "execution_count": 122,
   "id": "8920a76b-3a57-4ac8-bf5e-2fabacb29888",
   "metadata": {},
   "outputs": [],
   "source": [
    "two_star_titles = []\n",
    "two_star_prices = []\n",
    "\n",
    "for n in range(1,51):\n",
    "    scrape_url = base_url.format(n)\n",
    "    res = requests.get(scrape_url)\n",
    "    soup = bs4.BeautifulSoup(res.text, \"lxml\")\n",
    "    \n",
    "    books = soup.select(\".product_pod\")\n",
    "\n",
    "    for book in books:\n",
    "        if len(book.select(\".star-rating.Two\")) != 0:\n",
    "            book_title = book.select(\"a\")[1]['title']\n",
    "            book_price = book.select(\".price_color\")[0].getText()[1:]\n",
    "            two_star_titles.append(book_title)\n",
    "            two_star_prices.append(book_price)"
   ]
  },
  {
   "cell_type": "code",
   "execution_count": 170,
   "id": "298f29de-4834-43ab-be2b-df8047d364aa",
   "metadata": {},
   "outputs": [
    {
     "data": {
      "text/html": [
       "<div>\n",
       "<style scoped>\n",
       "    .dataframe tbody tr th:only-of-type {\n",
       "        vertical-align: middle;\n",
       "    }\n",
       "\n",
       "    .dataframe tbody tr th {\n",
       "        vertical-align: top;\n",
       "    }\n",
       "\n",
       "    .dataframe thead th {\n",
       "        text-align: right;\n",
       "    }\n",
       "</style>\n",
       "<table border=\"1\" class=\"dataframe\">\n",
       "  <thead>\n",
       "    <tr style=\"text-align: right;\">\n",
       "      <th></th>\n",
       "      <th>title</th>\n",
       "      <th>price</th>\n",
       "    </tr>\n",
       "  </thead>\n",
       "  <tbody>\n",
       "    <tr>\n",
       "      <th>0</th>\n",
       "      <td>Starving Hearts (Triangular Trade Trilogy, #1)</td>\n",
       "      <td>£13.99</td>\n",
       "    </tr>\n",
       "    <tr>\n",
       "      <th>1</th>\n",
       "      <td>Libertarianism for Beginners</td>\n",
       "      <td>£51.33</td>\n",
       "    </tr>\n",
       "    <tr>\n",
       "      <th>2</th>\n",
       "      <td>It's Only the Himalayas</td>\n",
       "      <td>£45.17</td>\n",
       "    </tr>\n",
       "    <tr>\n",
       "      <th>3</th>\n",
       "      <td>How Music Works</td>\n",
       "      <td>£37.32</td>\n",
       "    </tr>\n",
       "    <tr>\n",
       "      <th>4</th>\n",
       "      <td>Maude (1883-1993):She Grew Up with the country</td>\n",
       "      <td>£18.02</td>\n",
       "    </tr>\n",
       "  </tbody>\n",
       "</table>\n",
       "</div>"
      ],
      "text/plain": [
       "                                            title   price\n",
       "0  Starving Hearts (Triangular Trade Trilogy, #1)  £13.99\n",
       "1                    Libertarianism for Beginners  £51.33\n",
       "2                         It's Only the Himalayas  £45.17\n",
       "3                                 How Music Works  £37.32\n",
       "4  Maude (1883-1993):She Grew Up with the country  £18.02"
      ]
     },
     "execution_count": 170,
     "metadata": {},
     "output_type": "execute_result"
    }
   ],
   "source": [
    "df = pd.DataFrame({'title': two_star_titles, 'price': two_star_prices})\n",
    "df.head()"
   ]
  },
  {
   "cell_type": "markdown",
   "id": "2717a881-2d87-45ca-b0db-585168e6e070",
   "metadata": {},
   "source": [
    "### Select all the books"
   ]
  },
  {
   "cell_type": "code",
   "execution_count": 158,
   "id": "c252cc9f-3e46-435a-a53c-d9efeb516b83",
   "metadata": {},
   "outputs": [],
   "source": [
    "titles = []\n",
    "prices = []\n",
    "stars = []\n",
    "\n",
    "for n in range(1,51):\n",
    "    scrape_url = base_url.format(n)\n",
    "    res = requests.get(scrape_url)\n",
    "    soup = bs4.BeautifulSoup(res.text, \"lxml\")\n",
    "    \n",
    "    books = soup.select(\".product_pod\")\n",
    "\n",
    "    for book in books:\n",
    "\n",
    "        #rating\n",
    "        star_rating = book.select_one(\".star-rating\")\n",
    "        \n",
    "        if star_rating:\n",
    "\n",
    "            #rating\n",
    "            rating = star_rating.get(\"class\")[1]\n",
    "            stars.append(rating)\n",
    "\n",
    "            #title\n",
    "            book_title = book.select(\"a\")[1]['title']\n",
    "            titles.append(book_title)\n",
    "\n",
    "            #price\n",
    "            book_price = book.select(\".price_color\")[0].getText()[1:]\n",
    "            prices.append(book_price)"
   ]
  },
  {
   "cell_type": "code",
   "execution_count": 164,
   "id": "c848b53e-7428-41d3-a15f-8ab0ff76c544",
   "metadata": {},
   "outputs": [],
   "source": [
    "df = pd.DataFrame({'rating': stars, 'title':titles, 'price': prices})"
   ]
  },
  {
   "cell_type": "code",
   "execution_count": 166,
   "id": "8013778d-5a0b-4cdb-9b1d-60eb36e69ca8",
   "metadata": {},
   "outputs": [
    {
     "data": {
      "text/html": [
       "<div>\n",
       "<style scoped>\n",
       "    .dataframe tbody tr th:only-of-type {\n",
       "        vertical-align: middle;\n",
       "    }\n",
       "\n",
       "    .dataframe tbody tr th {\n",
       "        vertical-align: top;\n",
       "    }\n",
       "\n",
       "    .dataframe thead th {\n",
       "        text-align: right;\n",
       "    }\n",
       "</style>\n",
       "<table border=\"1\" class=\"dataframe\">\n",
       "  <thead>\n",
       "    <tr style=\"text-align: right;\">\n",
       "      <th></th>\n",
       "      <th>rating</th>\n",
       "      <th>title</th>\n",
       "      <th>price</th>\n",
       "    </tr>\n",
       "  </thead>\n",
       "  <tbody>\n",
       "    <tr>\n",
       "      <th>0</th>\n",
       "      <td>Three</td>\n",
       "      <td>A Light in the Attic</td>\n",
       "      <td>£51.77</td>\n",
       "    </tr>\n",
       "    <tr>\n",
       "      <th>1</th>\n",
       "      <td>One</td>\n",
       "      <td>Tipping the Velvet</td>\n",
       "      <td>£53.74</td>\n",
       "    </tr>\n",
       "    <tr>\n",
       "      <th>2</th>\n",
       "      <td>One</td>\n",
       "      <td>Soumission</td>\n",
       "      <td>£50.10</td>\n",
       "    </tr>\n",
       "    <tr>\n",
       "      <th>3</th>\n",
       "      <td>Four</td>\n",
       "      <td>Sharp Objects</td>\n",
       "      <td>£47.82</td>\n",
       "    </tr>\n",
       "    <tr>\n",
       "      <th>4</th>\n",
       "      <td>Five</td>\n",
       "      <td>Sapiens: A Brief History of Humankind</td>\n",
       "      <td>£54.23</td>\n",
       "    </tr>\n",
       "  </tbody>\n",
       "</table>\n",
       "</div>"
      ],
      "text/plain": [
       "  rating                                  title   price\n",
       "0  Three                   A Light in the Attic  £51.77\n",
       "1    One                     Tipping the Velvet  £53.74\n",
       "2    One                             Soumission  £50.10\n",
       "3   Four                          Sharp Objects  £47.82\n",
       "4   Five  Sapiens: A Brief History of Humankind  £54.23"
      ]
     },
     "execution_count": 166,
     "metadata": {},
     "output_type": "execute_result"
    }
   ],
   "source": [
    "df.head()"
   ]
  }
 ],
 "metadata": {
  "kernelspec": {
   "display_name": "Python 3 (ipykernel)",
   "language": "python",
   "name": "python3"
  },
  "language_info": {
   "codemirror_mode": {
    "name": "ipython",
    "version": 3
   },
   "file_extension": ".py",
   "mimetype": "text/x-python",
   "name": "python",
   "nbconvert_exporter": "python",
   "pygments_lexer": "ipython3",
   "version": "3.12.4"
  }
 },
 "nbformat": 4,
 "nbformat_minor": 5
}
